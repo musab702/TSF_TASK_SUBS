{
 "cells": [
  {
   "cell_type": "code",
   "execution_count": 1,
   "metadata": {},
   "outputs": [],
   "source": [
    "import numpy as np\n",
    "import pandas as pd\n",
    "import seaborn as sns"
   ]
  },
  {
   "cell_type": "code",
   "execution_count": 2,
   "metadata": {},
   "outputs": [],
   "source": [
    "data = pd.read_csv(\"E:/MUSAB II/Internships/SPARKS Foundation/SampleSuperstore.csv\")"
   ]
  },
  {
   "cell_type": "code",
   "execution_count": 7,
   "metadata": {},
   "outputs": [
    {
     "data": {
      "text/plain": [
       "(9994, 13)"
      ]
     },
     "execution_count": 7,
     "metadata": {},
     "output_type": "execute_result"
    }
   ],
   "source": [
    "data.shape"
   ]
  },
  {
   "cell_type": "code",
   "execution_count": 4,
   "metadata": {},
   "outputs": [
    {
     "name": "stdout",
     "output_type": "stream",
     "text": [
      "<class 'pandas.core.frame.DataFrame'>\n",
      "RangeIndex: 9994 entries, 0 to 9993\n",
      "Data columns (total 13 columns):\n",
      " #   Column        Non-Null Count  Dtype  \n",
      "---  ------        --------------  -----  \n",
      " 0   Ship Mode     9994 non-null   object \n",
      " 1   Segment       9994 non-null   object \n",
      " 2   Country       9994 non-null   object \n",
      " 3   City          9994 non-null   object \n",
      " 4   State         9994 non-null   object \n",
      " 5   Postal Code   9994 non-null   int64  \n",
      " 6   Region        9994 non-null   object \n",
      " 7   Category      9994 non-null   object \n",
      " 8   Sub-Category  9994 non-null   object \n",
      " 9   Sales         9994 non-null   float64\n",
      " 10  Quantity      9994 non-null   int64  \n",
      " 11  Discount      9994 non-null   float64\n",
      " 12  Profit        9994 non-null   float64\n",
      "dtypes: float64(3), int64(2), object(8)\n",
      "memory usage: 1015.1+ KB\n"
     ]
    }
   ],
   "source": [
    "data.info()"
   ]
  },
  {
   "cell_type": "code",
   "execution_count": 3,
   "metadata": {},
   "outputs": [
    {
     "data": {
      "text/html": [
       "<div>\n",
       "<style scoped>\n",
       "    .dataframe tbody tr th:only-of-type {\n",
       "        vertical-align: middle;\n",
       "    }\n",
       "\n",
       "    .dataframe tbody tr th {\n",
       "        vertical-align: top;\n",
       "    }\n",
       "\n",
       "    .dataframe thead th {\n",
       "        text-align: right;\n",
       "    }\n",
       "</style>\n",
       "<table border=\"1\" class=\"dataframe\">\n",
       "  <thead>\n",
       "    <tr style=\"text-align: right;\">\n",
       "      <th></th>\n",
       "      <th>Ship Mode</th>\n",
       "      <th>Segment</th>\n",
       "      <th>Country</th>\n",
       "      <th>City</th>\n",
       "      <th>State</th>\n",
       "      <th>Postal Code</th>\n",
       "      <th>Region</th>\n",
       "      <th>Category</th>\n",
       "      <th>Sub-Category</th>\n",
       "      <th>Sales</th>\n",
       "      <th>Quantity</th>\n",
       "      <th>Discount</th>\n",
       "      <th>Profit</th>\n",
       "    </tr>\n",
       "  </thead>\n",
       "  <tbody>\n",
       "    <tr>\n",
       "      <th>0</th>\n",
       "      <td>Second Class</td>\n",
       "      <td>Consumer</td>\n",
       "      <td>United States</td>\n",
       "      <td>Henderson</td>\n",
       "      <td>Kentucky</td>\n",
       "      <td>42420</td>\n",
       "      <td>South</td>\n",
       "      <td>Furniture</td>\n",
       "      <td>Bookcases</td>\n",
       "      <td>261.9600</td>\n",
       "      <td>2</td>\n",
       "      <td>0.00</td>\n",
       "      <td>41.9136</td>\n",
       "    </tr>\n",
       "    <tr>\n",
       "      <th>1</th>\n",
       "      <td>Second Class</td>\n",
       "      <td>Consumer</td>\n",
       "      <td>United States</td>\n",
       "      <td>Henderson</td>\n",
       "      <td>Kentucky</td>\n",
       "      <td>42420</td>\n",
       "      <td>South</td>\n",
       "      <td>Furniture</td>\n",
       "      <td>Chairs</td>\n",
       "      <td>731.9400</td>\n",
       "      <td>3</td>\n",
       "      <td>0.00</td>\n",
       "      <td>219.5820</td>\n",
       "    </tr>\n",
       "    <tr>\n",
       "      <th>2</th>\n",
       "      <td>Second Class</td>\n",
       "      <td>Corporate</td>\n",
       "      <td>United States</td>\n",
       "      <td>Los Angeles</td>\n",
       "      <td>California</td>\n",
       "      <td>90036</td>\n",
       "      <td>West</td>\n",
       "      <td>Office Supplies</td>\n",
       "      <td>Labels</td>\n",
       "      <td>14.6200</td>\n",
       "      <td>2</td>\n",
       "      <td>0.00</td>\n",
       "      <td>6.8714</td>\n",
       "    </tr>\n",
       "    <tr>\n",
       "      <th>3</th>\n",
       "      <td>Standard Class</td>\n",
       "      <td>Consumer</td>\n",
       "      <td>United States</td>\n",
       "      <td>Fort Lauderdale</td>\n",
       "      <td>Florida</td>\n",
       "      <td>33311</td>\n",
       "      <td>South</td>\n",
       "      <td>Furniture</td>\n",
       "      <td>Tables</td>\n",
       "      <td>957.5775</td>\n",
       "      <td>5</td>\n",
       "      <td>0.45</td>\n",
       "      <td>-383.0310</td>\n",
       "    </tr>\n",
       "    <tr>\n",
       "      <th>4</th>\n",
       "      <td>Standard Class</td>\n",
       "      <td>Consumer</td>\n",
       "      <td>United States</td>\n",
       "      <td>Fort Lauderdale</td>\n",
       "      <td>Florida</td>\n",
       "      <td>33311</td>\n",
       "      <td>South</td>\n",
       "      <td>Office Supplies</td>\n",
       "      <td>Storage</td>\n",
       "      <td>22.3680</td>\n",
       "      <td>2</td>\n",
       "      <td>0.20</td>\n",
       "      <td>2.5164</td>\n",
       "    </tr>\n",
       "    <tr>\n",
       "      <th>5</th>\n",
       "      <td>Standard Class</td>\n",
       "      <td>Consumer</td>\n",
       "      <td>United States</td>\n",
       "      <td>Los Angeles</td>\n",
       "      <td>California</td>\n",
       "      <td>90032</td>\n",
       "      <td>West</td>\n",
       "      <td>Furniture</td>\n",
       "      <td>Furnishings</td>\n",
       "      <td>48.8600</td>\n",
       "      <td>7</td>\n",
       "      <td>0.00</td>\n",
       "      <td>14.1694</td>\n",
       "    </tr>\n",
       "    <tr>\n",
       "      <th>6</th>\n",
       "      <td>Standard Class</td>\n",
       "      <td>Consumer</td>\n",
       "      <td>United States</td>\n",
       "      <td>Los Angeles</td>\n",
       "      <td>California</td>\n",
       "      <td>90032</td>\n",
       "      <td>West</td>\n",
       "      <td>Office Supplies</td>\n",
       "      <td>Art</td>\n",
       "      <td>7.2800</td>\n",
       "      <td>4</td>\n",
       "      <td>0.00</td>\n",
       "      <td>1.9656</td>\n",
       "    </tr>\n",
       "    <tr>\n",
       "      <th>7</th>\n",
       "      <td>Standard Class</td>\n",
       "      <td>Consumer</td>\n",
       "      <td>United States</td>\n",
       "      <td>Los Angeles</td>\n",
       "      <td>California</td>\n",
       "      <td>90032</td>\n",
       "      <td>West</td>\n",
       "      <td>Technology</td>\n",
       "      <td>Phones</td>\n",
       "      <td>907.1520</td>\n",
       "      <td>6</td>\n",
       "      <td>0.20</td>\n",
       "      <td>90.7152</td>\n",
       "    </tr>\n",
       "    <tr>\n",
       "      <th>8</th>\n",
       "      <td>Standard Class</td>\n",
       "      <td>Consumer</td>\n",
       "      <td>United States</td>\n",
       "      <td>Los Angeles</td>\n",
       "      <td>California</td>\n",
       "      <td>90032</td>\n",
       "      <td>West</td>\n",
       "      <td>Office Supplies</td>\n",
       "      <td>Binders</td>\n",
       "      <td>18.5040</td>\n",
       "      <td>3</td>\n",
       "      <td>0.20</td>\n",
       "      <td>5.7825</td>\n",
       "    </tr>\n",
       "    <tr>\n",
       "      <th>9</th>\n",
       "      <td>Standard Class</td>\n",
       "      <td>Consumer</td>\n",
       "      <td>United States</td>\n",
       "      <td>Los Angeles</td>\n",
       "      <td>California</td>\n",
       "      <td>90032</td>\n",
       "      <td>West</td>\n",
       "      <td>Office Supplies</td>\n",
       "      <td>Appliances</td>\n",
       "      <td>114.9000</td>\n",
       "      <td>5</td>\n",
       "      <td>0.00</td>\n",
       "      <td>34.4700</td>\n",
       "    </tr>\n",
       "  </tbody>\n",
       "</table>\n",
       "</div>"
      ],
      "text/plain": [
       "        Ship Mode    Segment        Country             City       State  \\\n",
       "0    Second Class   Consumer  United States        Henderson    Kentucky   \n",
       "1    Second Class   Consumer  United States        Henderson    Kentucky   \n",
       "2    Second Class  Corporate  United States      Los Angeles  California   \n",
       "3  Standard Class   Consumer  United States  Fort Lauderdale     Florida   \n",
       "4  Standard Class   Consumer  United States  Fort Lauderdale     Florida   \n",
       "5  Standard Class   Consumer  United States      Los Angeles  California   \n",
       "6  Standard Class   Consumer  United States      Los Angeles  California   \n",
       "7  Standard Class   Consumer  United States      Los Angeles  California   \n",
       "8  Standard Class   Consumer  United States      Los Angeles  California   \n",
       "9  Standard Class   Consumer  United States      Los Angeles  California   \n",
       "\n",
       "   Postal Code Region         Category Sub-Category     Sales  Quantity  \\\n",
       "0        42420  South        Furniture    Bookcases  261.9600         2   \n",
       "1        42420  South        Furniture       Chairs  731.9400         3   \n",
       "2        90036   West  Office Supplies       Labels   14.6200         2   \n",
       "3        33311  South        Furniture       Tables  957.5775         5   \n",
       "4        33311  South  Office Supplies      Storage   22.3680         2   \n",
       "5        90032   West        Furniture  Furnishings   48.8600         7   \n",
       "6        90032   West  Office Supplies          Art    7.2800         4   \n",
       "7        90032   West       Technology       Phones  907.1520         6   \n",
       "8        90032   West  Office Supplies      Binders   18.5040         3   \n",
       "9        90032   West  Office Supplies   Appliances  114.9000         5   \n",
       "\n",
       "   Discount    Profit  \n",
       "0      0.00   41.9136  \n",
       "1      0.00  219.5820  \n",
       "2      0.00    6.8714  \n",
       "3      0.45 -383.0310  \n",
       "4      0.20    2.5164  \n",
       "5      0.00   14.1694  \n",
       "6      0.00    1.9656  \n",
       "7      0.20   90.7152  \n",
       "8      0.20    5.7825  \n",
       "9      0.00   34.4700  "
      ]
     },
     "execution_count": 3,
     "metadata": {},
     "output_type": "execute_result"
    }
   ],
   "source": [
    "data.head(10)"
   ]
  },
  {
   "cell_type": "code",
   "execution_count": 8,
   "metadata": {},
   "outputs": [
    {
     "data": {
      "text/html": [
       "<div>\n",
       "<style scoped>\n",
       "    .dataframe tbody tr th:only-of-type {\n",
       "        vertical-align: middle;\n",
       "    }\n",
       "\n",
       "    .dataframe tbody tr th {\n",
       "        vertical-align: top;\n",
       "    }\n",
       "\n",
       "    .dataframe thead th {\n",
       "        text-align: right;\n",
       "    }\n",
       "</style>\n",
       "<table border=\"1\" class=\"dataframe\">\n",
       "  <thead>\n",
       "    <tr style=\"text-align: right;\">\n",
       "      <th></th>\n",
       "      <th>Postal Code</th>\n",
       "      <th>Sales</th>\n",
       "      <th>Quantity</th>\n",
       "      <th>Discount</th>\n",
       "      <th>Profit</th>\n",
       "    </tr>\n",
       "  </thead>\n",
       "  <tbody>\n",
       "    <tr>\n",
       "      <th>count</th>\n",
       "      <td>9994.000000</td>\n",
       "      <td>9994.000000</td>\n",
       "      <td>9994.000000</td>\n",
       "      <td>9994.000000</td>\n",
       "      <td>9994.000000</td>\n",
       "    </tr>\n",
       "    <tr>\n",
       "      <th>mean</th>\n",
       "      <td>55190.379428</td>\n",
       "      <td>229.858001</td>\n",
       "      <td>3.789574</td>\n",
       "      <td>0.156203</td>\n",
       "      <td>28.656896</td>\n",
       "    </tr>\n",
       "    <tr>\n",
       "      <th>std</th>\n",
       "      <td>32063.693350</td>\n",
       "      <td>623.245101</td>\n",
       "      <td>2.225110</td>\n",
       "      <td>0.206452</td>\n",
       "      <td>234.260108</td>\n",
       "    </tr>\n",
       "    <tr>\n",
       "      <th>min</th>\n",
       "      <td>1040.000000</td>\n",
       "      <td>0.444000</td>\n",
       "      <td>1.000000</td>\n",
       "      <td>0.000000</td>\n",
       "      <td>-6599.978000</td>\n",
       "    </tr>\n",
       "    <tr>\n",
       "      <th>25%</th>\n",
       "      <td>23223.000000</td>\n",
       "      <td>17.280000</td>\n",
       "      <td>2.000000</td>\n",
       "      <td>0.000000</td>\n",
       "      <td>1.728750</td>\n",
       "    </tr>\n",
       "    <tr>\n",
       "      <th>50%</th>\n",
       "      <td>56430.500000</td>\n",
       "      <td>54.490000</td>\n",
       "      <td>3.000000</td>\n",
       "      <td>0.200000</td>\n",
       "      <td>8.666500</td>\n",
       "    </tr>\n",
       "    <tr>\n",
       "      <th>75%</th>\n",
       "      <td>90008.000000</td>\n",
       "      <td>209.940000</td>\n",
       "      <td>5.000000</td>\n",
       "      <td>0.200000</td>\n",
       "      <td>29.364000</td>\n",
       "    </tr>\n",
       "    <tr>\n",
       "      <th>max</th>\n",
       "      <td>99301.000000</td>\n",
       "      <td>22638.480000</td>\n",
       "      <td>14.000000</td>\n",
       "      <td>0.800000</td>\n",
       "      <td>8399.976000</td>\n",
       "    </tr>\n",
       "  </tbody>\n",
       "</table>\n",
       "</div>"
      ],
      "text/plain": [
       "        Postal Code         Sales     Quantity     Discount       Profit\n",
       "count   9994.000000   9994.000000  9994.000000  9994.000000  9994.000000\n",
       "mean   55190.379428    229.858001     3.789574     0.156203    28.656896\n",
       "std    32063.693350    623.245101     2.225110     0.206452   234.260108\n",
       "min     1040.000000      0.444000     1.000000     0.000000 -6599.978000\n",
       "25%    23223.000000     17.280000     2.000000     0.000000     1.728750\n",
       "50%    56430.500000     54.490000     3.000000     0.200000     8.666500\n",
       "75%    90008.000000    209.940000     5.000000     0.200000    29.364000\n",
       "max    99301.000000  22638.480000    14.000000     0.800000  8399.976000"
      ]
     },
     "execution_count": 8,
     "metadata": {},
     "output_type": "execute_result"
    }
   ],
   "source": [
    "data.describe()"
   ]
  },
  {
   "cell_type": "code",
   "execution_count": 10,
   "metadata": {},
   "outputs": [
    {
     "data": {
      "text/plain": [
       "Ship Mode          4\n",
       "Segment            3\n",
       "Country            1\n",
       "City             531\n",
       "State             49\n",
       "Postal Code      631\n",
       "Region             4\n",
       "Category           3\n",
       "Sub-Category      17\n",
       "Sales           5825\n",
       "Quantity          14\n",
       "Discount          12\n",
       "Profit          7287\n",
       "dtype: int64"
      ]
     },
     "execution_count": 10,
     "metadata": {},
     "output_type": "execute_result"
    }
   ],
   "source": [
    "data.nunique()"
   ]
  },
  {
   "cell_type": "code",
   "execution_count": 17,
   "metadata": {},
   "outputs": [
    {
     "data": {
      "text/plain": [
       "array(['United States'], dtype=object)"
      ]
     },
     "execution_count": 17,
     "metadata": {},
     "output_type": "execute_result"
    }
   ],
   "source": [
    "data['Country'].unique()"
   ]
  },
  {
   "cell_type": "raw",
   "metadata": {},
   "source": [
    "Since the column \"Country\" has only one value, the column is classified as redundant and thus dropped"
   ]
  },
  {
   "cell_type": "code",
   "execution_count": 18,
   "metadata": {},
   "outputs": [],
   "source": [
    "Superstore = data.drop(['Country'],axis=1)"
   ]
  },
  {
   "cell_type": "code",
   "execution_count": 19,
   "metadata": {},
   "outputs": [
    {
     "data": {
      "text/html": [
       "<div>\n",
       "<style scoped>\n",
       "    .dataframe tbody tr th:only-of-type {\n",
       "        vertical-align: middle;\n",
       "    }\n",
       "\n",
       "    .dataframe tbody tr th {\n",
       "        vertical-align: top;\n",
       "    }\n",
       "\n",
       "    .dataframe thead th {\n",
       "        text-align: right;\n",
       "    }\n",
       "</style>\n",
       "<table border=\"1\" class=\"dataframe\">\n",
       "  <thead>\n",
       "    <tr style=\"text-align: right;\">\n",
       "      <th></th>\n",
       "      <th>Ship Mode</th>\n",
       "      <th>Segment</th>\n",
       "      <th>City</th>\n",
       "      <th>State</th>\n",
       "      <th>Postal Code</th>\n",
       "      <th>Region</th>\n",
       "      <th>Category</th>\n",
       "      <th>Sub-Category</th>\n",
       "      <th>Sales</th>\n",
       "      <th>Quantity</th>\n",
       "      <th>Discount</th>\n",
       "      <th>Profit</th>\n",
       "    </tr>\n",
       "  </thead>\n",
       "  <tbody>\n",
       "    <tr>\n",
       "      <th>0</th>\n",
       "      <td>Second Class</td>\n",
       "      <td>Consumer</td>\n",
       "      <td>Henderson</td>\n",
       "      <td>Kentucky</td>\n",
       "      <td>42420</td>\n",
       "      <td>South</td>\n",
       "      <td>Furniture</td>\n",
       "      <td>Bookcases</td>\n",
       "      <td>261.9600</td>\n",
       "      <td>2</td>\n",
       "      <td>0.00</td>\n",
       "      <td>41.9136</td>\n",
       "    </tr>\n",
       "    <tr>\n",
       "      <th>1</th>\n",
       "      <td>Second Class</td>\n",
       "      <td>Consumer</td>\n",
       "      <td>Henderson</td>\n",
       "      <td>Kentucky</td>\n",
       "      <td>42420</td>\n",
       "      <td>South</td>\n",
       "      <td>Furniture</td>\n",
       "      <td>Chairs</td>\n",
       "      <td>731.9400</td>\n",
       "      <td>3</td>\n",
       "      <td>0.00</td>\n",
       "      <td>219.5820</td>\n",
       "    </tr>\n",
       "    <tr>\n",
       "      <th>2</th>\n",
       "      <td>Second Class</td>\n",
       "      <td>Corporate</td>\n",
       "      <td>Los Angeles</td>\n",
       "      <td>California</td>\n",
       "      <td>90036</td>\n",
       "      <td>West</td>\n",
       "      <td>Office Supplies</td>\n",
       "      <td>Labels</td>\n",
       "      <td>14.6200</td>\n",
       "      <td>2</td>\n",
       "      <td>0.00</td>\n",
       "      <td>6.8714</td>\n",
       "    </tr>\n",
       "    <tr>\n",
       "      <th>3</th>\n",
       "      <td>Standard Class</td>\n",
       "      <td>Consumer</td>\n",
       "      <td>Fort Lauderdale</td>\n",
       "      <td>Florida</td>\n",
       "      <td>33311</td>\n",
       "      <td>South</td>\n",
       "      <td>Furniture</td>\n",
       "      <td>Tables</td>\n",
       "      <td>957.5775</td>\n",
       "      <td>5</td>\n",
       "      <td>0.45</td>\n",
       "      <td>-383.0310</td>\n",
       "    </tr>\n",
       "    <tr>\n",
       "      <th>4</th>\n",
       "      <td>Standard Class</td>\n",
       "      <td>Consumer</td>\n",
       "      <td>Fort Lauderdale</td>\n",
       "      <td>Florida</td>\n",
       "      <td>33311</td>\n",
       "      <td>South</td>\n",
       "      <td>Office Supplies</td>\n",
       "      <td>Storage</td>\n",
       "      <td>22.3680</td>\n",
       "      <td>2</td>\n",
       "      <td>0.20</td>\n",
       "      <td>2.5164</td>\n",
       "    </tr>\n",
       "  </tbody>\n",
       "</table>\n",
       "</div>"
      ],
      "text/plain": [
       "        Ship Mode    Segment             City       State  Postal Code Region  \\\n",
       "0    Second Class   Consumer        Henderson    Kentucky        42420  South   \n",
       "1    Second Class   Consumer        Henderson    Kentucky        42420  South   \n",
       "2    Second Class  Corporate      Los Angeles  California        90036   West   \n",
       "3  Standard Class   Consumer  Fort Lauderdale     Florida        33311  South   \n",
       "4  Standard Class   Consumer  Fort Lauderdale     Florida        33311  South   \n",
       "\n",
       "          Category Sub-Category     Sales  Quantity  Discount    Profit  \n",
       "0        Furniture    Bookcases  261.9600         2      0.00   41.9136  \n",
       "1        Furniture       Chairs  731.9400         3      0.00  219.5820  \n",
       "2  Office Supplies       Labels   14.6200         2      0.00    6.8714  \n",
       "3        Furniture       Tables  957.5775         5      0.45 -383.0310  \n",
       "4  Office Supplies      Storage   22.3680         2      0.20    2.5164  "
      ]
     },
     "execution_count": 19,
     "metadata": {},
     "output_type": "execute_result"
    }
   ],
   "source": [
    "Superstore.head()"
   ]
  },
  {
   "cell_type": "code",
   "execution_count": 20,
   "metadata": {},
   "outputs": [],
   "source": [
    "corellation = Superstore.corr()"
   ]
  },
  {
   "cell_type": "code",
   "execution_count": 43,
   "metadata": {},
   "outputs": [
    {
     "data": {
      "text/plain": [
       "<matplotlib.axes._subplots.AxesSubplot at 0x1a40d373108>"
      ]
     },
     "execution_count": 43,
     "metadata": {},
     "output_type": "execute_result"
    },
    {
     "data": {
      "image/png": "[encoded data removed]",
      "text/plain": [
       "<Figure size 432x288 with 1 Axes>"
      ]
     },
     "metadata": {
      "needs_background": "light"
     },
     "output_type": "display_data"
    }
   ],
   "source": [
    "sns.barplot(x='Segment',y='Profit',data=Superstore)"
   ]
  },
  {
   "cell_type": "code",
   "execution_count": 42,
   "metadata": {},
   "outputs": [
    {
     "data": {
      "image/png": "[encoded data removed]",
      "text/plain": [
       "<Figure size 432x288 with 1 Axes>"
      ]
     },
     "metadata": {
      "needs_background": "light"
     },
     "output_type": "display_data"
    }
   ],
   "source": [
    "ax = sns.barplot(x=\"Region\", y=\"Profit\", data=Superstore)"
   ]
  },
  {
   "cell_type": "code",
   "execution_count": 44,
   "metadata": {},
   "outputs": [
    {
     "data": {
      "image/png": "[encoded data removed]",
      "text/plain": [
       "<Figure size 432x288 with 1 Axes>"
      ]
     },
     "metadata": {
      "needs_background": "light"
     },
     "output_type": "display_data"
    }
   ],
   "source": [
    "ax = sns.barplot(x=\"Category\", y=\"Profit\", data=Superstore)"
   ]
  },
  {
   "cell_type": "code",
   "execution_count": 66,
   "metadata": {},
   "outputs": [
    {
     "data": {
      "image/png": "[encoded data removed]",
      "text/plain": [
       "<Figure size 1080x720 with 1 Axes>"
      ]
     },
     "metadata": {},
     "output_type": "display_data"
    }
   ],
   "source": [
    "sns.set(rc={'figure.figsize':(15,10)})\n",
    "scat= sns.lineplot(x='Region',y='Profit',hue='Category',data=Superstore)"
   ]
  },
  {
   "cell_type": "markdown",
   "metadata": {},
   "source": [
    "# Python Script to calculate sale values"
   ]
  },
  {
   "cell_type": "code",
   "execution_count": 112,
   "metadata": {},
   "outputs": [],
   "source": [
    "#CREATING THE CENTRAL DATAFRAME\n",
    "\n",
    "cent1 = Superstore.loc[(Superstore['Category']=='Furniture') & (Superstore['Region']=='Central')]\n",
    "central1 = cent1.drop(['Ship Mode','Segment','City','State','Postal Code','Sub-Category','Sales','Quantity','Discount'],axis=1)"
   ]
  },
  {
   "cell_type": "code",
   "execution_count": 113,
   "metadata": {},
   "outputs": [
    {
     "name": "stdout",
     "output_type": "stream",
     "text": [
      "       Region   Category    Profit\n",
      "36    Central  Furniture -147.9630\n",
      "38    Central  Furniture  -46.9764\n",
      "39    Central  Furniture  -15.1470\n",
      "51    Central  Furniture    2.9568\n",
      "52    Central  Furniture   17.0981\n",
      "...       ...        ...       ...\n",
      "9903  Central  Furniture   -6.9102\n",
      "9917  Central  Furniture    4.6221\n",
      "9919  Central  Furniture -143.4310\n",
      "9947  Central  Furniture  539.2464\n",
      "9962  Central  Furniture  -67.6704\n",
      "\n",
      "[481 rows x 3 columns]\n"
     ]
    }
   ],
   "source": [
    "print(central1)"
   ]
  },
  {
   "cell_type": "code",
   "execution_count": 114,
   "metadata": {},
   "outputs": [],
   "source": [
    "cent2 = Superstore.loc[(Superstore['Category']=='Office Supplies') & (Superstore['Region']=='Central')]\n",
    "central2 = cent2.drop(['Ship Mode','Segment','City','State','Postal Code','Sub-Category','Sales','Quantity','Discount'],axis=1)"
   ]
  },
  {
   "cell_type": "code",
   "execution_count": 115,
   "metadata": {},
   "outputs": [
    {
     "name": "stdout",
     "output_type": "stream",
     "text": [
      "       Region         Category    Profit\n",
      "14    Central  Office Supplies -123.8580\n",
      "15    Central  Office Supplies   -3.8160\n",
      "16    Central  Office Supplies   13.3176\n",
      "21    Central  Office Supplies    5.0596\n",
      "22    Central  Office Supplies   15.6884\n",
      "...       ...              ...       ...\n",
      "9948  Central  Office Supplies  793.7160\n",
      "9951  Central  Office Supplies    8.6900\n",
      "9961  Central  Office Supplies   23.7742\n",
      "9972  Central  Office Supplies   33.6042\n",
      "9982  Central  Office Supplies   16.7132\n",
      "\n",
      "[1422 rows x 3 columns]\n"
     ]
    }
   ],
   "source": [
    "print(central2)"
   ]
  },
  {
   "cell_type": "code",
   "execution_count": 116,
   "metadata": {},
   "outputs": [
    {
     "name": "stdout",
     "output_type": "stream",
     "text": [
      "      Furniture  Office Supplies\n",
      "14          NaN        -123.8580\n",
      "15          NaN          -3.8160\n",
      "16          NaN          13.3176\n",
      "21          NaN           5.0596\n",
      "22          NaN          15.6884\n",
      "...         ...              ...\n",
      "9951        NaN           8.6900\n",
      "9961        NaN          23.7742\n",
      "9962   -67.6704              NaN\n",
      "9972        NaN          33.6042\n",
      "9982        NaN          16.7132\n",
      "\n",
      "[1903 rows x 2 columns]\n"
     ]
    }
   ],
   "source": [
    "dato = [central1['Profit'],central2['Profit']]\n",
    "headers = ['Furniture','Office Supplies']\n",
    "Central = pd.concat(dato,axis=1,keys=headers)\n",
    "print(Central)"
   ]
  },
  {
   "cell_type": "code",
   "execution_count": 123,
   "metadata": {},
   "outputs": [
    {
     "name": "stdout",
     "output_type": "stream",
     "text": [
      "The mean of Furniture Profit in the Central region is -5.968917671517672\n",
      "The mean of Office Supplies Profit in the Central region is 6.244711603375523\n"
     ]
    }
   ],
   "source": [
    "central_furn_mean=Central['Furniture'].mean()\n",
    "print(\"The mean of Furniture Profit in the Central region is {}\".format(central_furn_mean))\n",
    "\n",
    "central_OS_mean=Central['Office Supplies'].mean()\n",
    "print(\"The mean of Office Supplies Profit in the Central region is {}\".format(central_OS_mean))"
   ]
  },
  {
   "cell_type": "code",
   "execution_count": 118,
   "metadata": {},
   "outputs": [
    {
     "name": "stdout",
     "output_type": "stream",
     "text": [
      "     Region   Category    Profit\n",
      "0     South  Furniture   41.9136\n",
      "1     South  Furniture  219.5820\n",
      "3     South  Furniture -383.0310\n",
      "72    South  Furniture -114.3912\n",
      "73    South  Furniture    1.2130\n",
      "...     ...        ...       ...\n",
      "9807  South  Furniture   12.1780\n",
      "9817  South  Furniture   45.4671\n",
      "9829  South  Furniture   15.1470\n",
      "9980  South  Furniture   22.3548\n",
      "9989  South  Furniture    4.1028\n",
      "\n",
      "[332 rows x 3 columns]\n"
     ]
    }
   ],
   "source": [
    "#CREATING THE SOUTH DATAFRAME\n",
    "\n",
    "sou1 = Superstore.loc[(Superstore['Category']=='Furniture') & (Superstore['Region']=='South')]\n",
    "south1 = sou1.drop(['Ship Mode','Segment','City','State','Postal Code','Sub-Category','Sales','Quantity','Discount'],axis=1)\n",
    "print(south1)"
   ]
  },
  {
   "cell_type": "code",
   "execution_count": 120,
   "metadata": {},
   "outputs": [
    {
     "name": "stdout",
     "output_type": "stream",
     "text": [
      "     Region         Category   Profit\n",
      "4     South  Office Supplies   2.5164\n",
      "12    South  Office Supplies   5.4432\n",
      "43    South  Office Supplies   9.5616\n",
      "69    South  Office Supplies  35.6636\n",
      "74    South  Office Supplies -18.1960\n",
      "...     ...              ...      ...\n",
      "9856  South  Office Supplies  20.9664\n",
      "9881  South  Office Supplies   6.7392\n",
      "9911  South  Office Supplies  56.5264\n",
      "9970  South  Office Supplies  54.9976\n",
      "9971  South  Office Supplies  42.2250\n",
      "\n",
      "[995 rows x 3 columns]\n"
     ]
    }
   ],
   "source": [
    "sou2 = Superstore.loc[(Superstore['Category']=='Office Supplies') & (Superstore['Region']=='South')]\n",
    "south2 = sou2.drop(['Ship Mode','Segment','City','State','Postal Code','Sub-Category','Sales','Quantity','Discount'],axis=1)\n",
    "print(south2)"
   ]
  },
  {
   "cell_type": "code",
   "execution_count": 121,
   "metadata": {},
   "outputs": [
    {
     "name": "stdout",
     "output_type": "stream",
     "text": [
      "      Furniture  Office Supplies\n",
      "0       41.9136              NaN\n",
      "1      219.5820              NaN\n",
      "3     -383.0310              NaN\n",
      "4           NaN           2.5164\n",
      "12          NaN           5.4432\n",
      "...         ...              ...\n",
      "9911        NaN          56.5264\n",
      "9970        NaN          54.9976\n",
      "9971        NaN          42.2250\n",
      "9980    22.3548              NaN\n",
      "9989     4.1028              NaN\n",
      "\n",
      "[1327 rows x 2 columns]\n"
     ]
    }
   ],
   "source": [
    "datr = [south1['Profit'],south2['Profit']]\n",
    "headers = ['Furniture','Office Supplies']\n",
    "South = pd.concat(datr,axis=1,keys=headers)\n",
    "print(South)"
   ]
  },
  {
   "cell_type": "code",
   "execution_count": 124,
   "metadata": {},
   "outputs": [
    {
     "name": "stdout",
     "output_type": "stream",
     "text": [
      "The mean of Furniture Profit in the Southern region is 20.395199096385536\n",
      "The mean of Office Supplies Profit in the Southern region is 20.08682693467334\n"
     ]
    }
   ],
   "source": [
    "south_furn_mean=South['Furniture'].mean()\n",
    "print(\"The mean of Furniture Profit in the Southern region is {}\".format(south_furn_mean))\n",
    "\n",
    "south_OS_mean=South['Office Supplies'].mean()\n",
    "print(\"The mean of Office Supplies Profit in the Southern region is {}\".format(south_OS_mean))"
   ]
  },
  {
   "cell_type": "code",
   "execution_count": 125,
   "metadata": {},
   "outputs": [
    {
     "name": "stdout",
     "output_type": "stream",
     "text": [
      "     Region   Category     Profit\n",
      "23     East  Furniture    -1.0196\n",
      "27     East  Furniture -1665.0522\n",
      "29     East  Furniture    15.5250\n",
      "57     East  Furniture     7.0980\n",
      "96     East  Furniture    40.5426\n",
      "...     ...        ...        ...\n",
      "9897   East  Furniture    34.9740\n",
      "9898   East  Furniture     0.0000\n",
      "9899   East  Furniture  -143.2548\n",
      "9938   East  Furniture    19.9155\n",
      "9964   East  Furniture     6.4320\n",
      "\n",
      "[601 rows x 3 columns]\n"
     ]
    }
   ],
   "source": [
    "#CREATING THE EAST DATAFRAME\n",
    "\n",
    "eas1 = Superstore.loc[(Superstore['Category']=='Furniture') & (Superstore['Region']=='East')]\n",
    "east1 = eas1.drop(['Ship Mode','Segment','City','State','Postal Code','Sub-Category','Sales','Quantity','Discount'],axis=1)\n",
    "print(east1)"
   ]
  },
  {
   "cell_type": "code",
   "execution_count": 126,
   "metadata": {},
   "outputs": [
    {
     "name": "stdout",
     "output_type": "stream",
     "text": [
      "     Region         Category    Profit\n",
      "28     East  Office Supplies   -7.0532\n",
      "30     East  Office Supplies    1.1016\n",
      "31     East  Office Supplies    9.7092\n",
      "32     East  Office Supplies   -5.7150\n",
      "33     East  Office Supplies    3.5460\n",
      "...     ...              ...       ...\n",
      "9968   East  Office Supplies  331.1910\n",
      "9969   East  Office Supplies    6.5975\n",
      "9981   East  Office Supplies    5.3690\n",
      "9984   East  Office Supplies   15.1200\n",
      "9985   East  Office Supplies   16.1240\n",
      "\n",
      "[1712 rows x 3 columns]\n"
     ]
    }
   ],
   "source": [
    "eas2 = Superstore.loc[(Superstore['Category']=='Office Supplies') & (Superstore['Region']=='East')]\n",
    "east2 = eas2.drop(['Ship Mode','Segment','City','State','Postal Code','Sub-Category','Sales','Quantity','Discount'],axis=1)\n",
    "print(east2)"
   ]
  },
  {
   "cell_type": "code",
   "execution_count": 129,
   "metadata": {},
   "outputs": [
    {
     "name": "stdout",
     "output_type": "stream",
     "text": [
      "      Furniture  Office Supplies\n",
      "23      -1.0196              NaN\n",
      "27   -1665.0522              NaN\n",
      "28          NaN          -7.0532\n",
      "29      15.5250              NaN\n",
      "30          NaN           1.1016\n",
      "...         ...              ...\n",
      "9968        NaN         331.1910\n",
      "9969        NaN           6.5975\n",
      "9981        NaN           5.3690\n",
      "9984        NaN          15.1200\n",
      "9985        NaN          16.1240\n",
      "\n",
      "[2313 rows x 2 columns]\n"
     ]
    }
   ],
   "source": [
    "datw = [east1['Profit'],east2['Profit']]\n",
    "headers = ['Furniture','Office Supplies']\n",
    "East = pd.concat(datw,axis=1,keys=headers)\n",
    "print(East)"
   ]
  },
  {
   "cell_type": "code",
   "execution_count": 130,
   "metadata": {},
   "outputs": [
    {
     "name": "stdout",
     "output_type": "stream",
     "text": [
      "The mean of Furniture Profit in the Eastern region is 5.068495507487528\n",
      "The mean of Office Supplies Profit in the Eastern region is 23.95711396028036\n"
     ]
    }
   ],
   "source": [
    "east_furn_mean=East['Furniture'].mean()\n",
    "print(\"The mean of Furniture Profit in the Eastern region is {}\".format(east_furn_mean))\n",
    "\n",
    "east_OS_mean=East['Office Supplies'].mean()\n",
    "print(\"The mean of Office Supplies Profit in the Eastern region is {}\".format(east_OS_mean))"
   ]
  },
  {
   "cell_type": "code",
   "execution_count": 131,
   "metadata": {},
   "outputs": [
    {
     "name": "stdout",
     "output_type": "stream",
     "text": [
      "     Region   Category    Profit\n",
      "5      West  Furniture   14.1694\n",
      "10     West  Furniture   85.3092\n",
      "24     West  Furniture  240.2649\n",
      "65     West  Furniture   22.3328\n",
      "104    West  Furniture   -3.8385\n",
      "...     ...        ...       ...\n",
      "9928   West  Furniture    8.7372\n",
      "9931   West  Furniture  -40.1960\n",
      "9937   West  Furniture   -1.7772\n",
      "9955   West  Furniture   10.2588\n",
      "9990   West  Furniture   15.6332\n",
      "\n",
      "[707 rows x 3 columns]\n"
     ]
    }
   ],
   "source": [
    "#CREATING THE WEST DATASET\n",
    "\n",
    "wes1 = Superstore.loc[(Superstore['Category']=='Furniture') & (Superstore['Region']=='West')]\n",
    "west1 = wes1.drop(['Ship Mode','Segment','City','State','Postal Code','Sub-Category','Sales','Quantity','Discount'],axis=1)\n",
    "print(west1)"
   ]
  },
  {
   "cell_type": "code",
   "execution_count": 132,
   "metadata": {},
   "outputs": [
    {
     "name": "stdout",
     "output_type": "stream",
     "text": [
      "     Region         Category    Profit\n",
      "2      West  Office Supplies    6.8714\n",
      "6      West  Office Supplies    1.9656\n",
      "8      West  Office Supplies    5.7825\n",
      "9      West  Office Supplies   34.4700\n",
      "13     West  Office Supplies  132.5922\n",
      "...     ...              ...       ...\n",
      "9977   West  Office Supplies    0.0000\n",
      "9978   West  Office Supplies    4.6816\n",
      "9979   West  Office Supplies  153.1152\n",
      "9992   West  Office Supplies   13.3200\n",
      "9993   West  Office Supplies   72.9480\n",
      "\n",
      "[1897 rows x 3 columns]\n"
     ]
    }
   ],
   "source": [
    "wes2 = Superstore.loc[(Superstore['Category']=='Office Supplies') & (Superstore['Region']=='West')]\n",
    "west2 = wes2.drop(['Ship Mode','Segment','City','State','Postal Code','Sub-Category','Sales','Quantity','Discount'],axis=1)\n",
    "print(west2)"
   ]
  },
  {
   "cell_type": "code",
   "execution_count": 133,
   "metadata": {},
   "outputs": [
    {
     "name": "stdout",
     "output_type": "stream",
     "text": [
      "      Furniture  Office Supplies\n",
      "2           NaN           6.8714\n",
      "5       14.1694              NaN\n",
      "6           NaN           1.9656\n",
      "8           NaN           5.7825\n",
      "9           NaN          34.4700\n",
      "...         ...              ...\n",
      "9978        NaN           4.6816\n",
      "9979        NaN         153.1152\n",
      "9990    15.6332              NaN\n",
      "9992        NaN          13.3200\n",
      "9993        NaN          72.9480\n",
      "\n",
      "[2604 rows x 2 columns]\n"
     ]
    }
   ],
   "source": [
    "datx = [west1['Profit'],west2['Profit']]\n",
    "headers = ['Furniture','Office Supplies']\n",
    "West = pd.concat(datx,axis=1,keys=headers)\n",
    "print(West)"
   ]
  },
  {
   "cell_type": "code",
   "execution_count": 135,
   "metadata": {},
   "outputs": [
    {
     "name": "stdout",
     "output_type": "stream",
     "text": [
      "The mean of Furniture Profit in the Eastern region is 16.27291414427157\n",
      "The mean of Office Supplies Profit in the Eastern region is 27.733183447548843\n"
     ]
    }
   ],
   "source": [
    "west_furn_mean=West['Furniture'].mean()\n",
    "print(\"The mean of Furniture Profit in the Eastern region is {}\".format(west_furn_mean))\n",
    "\n",
    "west_OS_mean=West['Office Supplies'].mean()\n",
    "print(\"The mean of Office Supplies Profit in the Eastern region is {}\".format(west_OS_mean))"
   ]
  },
  {
   "cell_type": "markdown",
   "metadata": {},
   "source": [
    "# Final Statements"
   ]
  },
  {
   "cell_type": "code",
   "execution_count": 142,
   "metadata": {},
   "outputs": [
    {
     "name": "stdout",
     "output_type": "stream",
     "text": [
      "Increase the Purchases of Office Supplies and decrease the Purchasing of Furniture in The Central\n"
     ]
    }
   ],
   "source": [
    "if central_furn_mean > central_OS_mean:\n",
    "    print('Increase the Purchases of Furniture and decrease the Purchasing of Office Supplies in The Central')\n",
    "else:\n",
    "    print('Increase the Purchases of Office Supplies and decrease the Purchasing of Furniture in The Central')"
   ]
  },
  {
   "cell_type": "code",
   "execution_count": 143,
   "metadata": {},
   "outputs": [
    {
     "name": "stdout",
     "output_type": "stream",
     "text": [
      "Increase the Purchases of Furniture and decrease the Purchasing of Office Supplies in The South\n"
     ]
    }
   ],
   "source": [
    "if south_furn_mean > south_OS_mean:\n",
    "    print('Increase the Purchases of Furniture and decrease the Purchasing of Office Supplies in The South')\n",
    "else:\n",
    "    print('Increase the Purchases of Office Supplies and decrease the Purchasing of Furniture in the South')"
   ]
  },
  {
   "cell_type": "code",
   "execution_count": 144,
   "metadata": {},
   "outputs": [
    {
     "name": "stdout",
     "output_type": "stream",
     "text": [
      "Increase the Purchases of Office Supplies and decrease the Purchasing of Furniture in the East\n"
     ]
    }
   ],
   "source": [
    "if east_furn_mean > east_OS_mean:\n",
    "    print('Increase the Purchases of Furniture and decrease the Purchasing of Office Supplies in the East')\n",
    "else:\n",
    "    print('Increase the Purchases of Office Supplies and decrease the Purchasing of Furniture in the East')"
   ]
  },
  {
   "cell_type": "code",
   "execution_count": 145,
   "metadata": {},
   "outputs": [
    {
     "name": "stdout",
     "output_type": "stream",
     "text": [
      "Increase the Purchases of Office Supplies and decrease the Purchasing of Furniture in The West\n"
     ]
    }
   ],
   "source": [
    "if west_furn_mean > west_OS_mean:\n",
    "    print('Increase the Purchases of Furniture and decrease the Purchasing of Office Supplies in The West')\n",
    "else:\n",
    "    print('Increase the Purchases of Office Supplies and decrease the Purchasing of Furniture in The West')"
   ]
  },
  {
   "cell_type": "code",
   "execution_count": null,
   "metadata": {},
   "outputs": [],
   "source": []
  }
 ],
 "metadata": {
  "kernelspec": {
   "display_name": "Python 3",
   "language": "python",
   "name": "python3"
  },
  "language_info": {
   "codemirror_mode": {
    "name": "ipython",
    "version": 3
   },
   "file_extension": ".py",
   "mimetype": "text/x-python",
   "name": "python",
   "nbconvert_exporter": "python",
   "pygments_lexer": "ipython3",
   "version": "3.7.6"
  }
 },
 "nbformat": 4,
 "nbformat_minor": 4
}
